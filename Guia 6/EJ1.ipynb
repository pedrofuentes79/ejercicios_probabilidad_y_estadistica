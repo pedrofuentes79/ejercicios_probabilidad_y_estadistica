{
 "cells": [
  {
   "cell_type": "code",
   "execution_count": 1,
   "metadata": {},
   "outputs": [],
   "source": [
    "import pandas as pd"
   ]
  },
  {
   "cell_type": "code",
   "execution_count": 9,
   "metadata": {},
   "outputs": [],
   "source": [
    "# quiero crear una base de datos con datos de las cajas de alfajores del archivo alfajores.txt de esta misma carpeta\n",
    "# para ello, primero leo el archivo y lo guardo en una variable. La primera columna es el número de caja (vienen 4 alfajores por caja)\n",
    "# la segunda columna es la cantidad de alfajores defectuosos en cada caja\n",
    "# la tercera columna es la sede; si es 1 es la sede de Pilar, si es 0 es la sede de Quilmes.\n",
    "df = pd.read_csv('databases/alfajores.txt', delimiter=\" \", quotechar='\"', index_col=0)\n"
   ]
  },
  {
   "cell_type": "code",
   "execution_count": 10,
   "metadata": {},
   "outputs": [
    {
     "data": {
      "text/html": [
       "<div>\n",
       "<style scoped>\n",
       "    .dataframe tbody tr th:only-of-type {\n",
       "        vertical-align: middle;\n",
       "    }\n",
       "\n",
       "    .dataframe tbody tr th {\n",
       "        vertical-align: top;\n",
       "    }\n",
       "\n",
       "    .dataframe thead th {\n",
       "        text-align: right;\n",
       "    }\n",
       "</style>\n",
       "<table border=\"1\" class=\"dataframe\">\n",
       "  <thead>\n",
       "    <tr style=\"text-align: right;\">\n",
       "      <th></th>\n",
       "      <th>defectuosos</th>\n",
       "      <th>fabrica</th>\n",
       "    </tr>\n",
       "  </thead>\n",
       "  <tbody>\n",
       "    <tr>\n",
       "      <th>1</th>\n",
       "      <td>3</td>\n",
       "      <td>1</td>\n",
       "    </tr>\n",
       "    <tr>\n",
       "      <th>2</th>\n",
       "      <td>3</td>\n",
       "      <td>1</td>\n",
       "    </tr>\n",
       "    <tr>\n",
       "      <th>3</th>\n",
       "      <td>3</td>\n",
       "      <td>1</td>\n",
       "    </tr>\n",
       "    <tr>\n",
       "      <th>4</th>\n",
       "      <td>1</td>\n",
       "      <td>0</td>\n",
       "    </tr>\n",
       "    <tr>\n",
       "      <th>5</th>\n",
       "      <td>4</td>\n",
       "      <td>1</td>\n",
       "    </tr>\n",
       "  </tbody>\n",
       "</table>\n",
       "</div>"
      ],
      "text/plain": [
       "   defectuosos  fabrica\n",
       "1            3        1\n",
       "2            3        1\n",
       "3            3        1\n",
       "4            1        0\n",
       "5            4        1"
      ]
     },
     "execution_count": 10,
     "metadata": {},
     "output_type": "execute_result"
    }
   ],
   "source": [
    "df.head()"
   ]
  },
  {
   "cell_type": "code",
   "execution_count": 16,
   "metadata": {},
   "outputs": [
    {
     "name": "stdout",
     "output_type": "stream",
     "text": [
      "Cajas de Pilar:  372\n",
      "Cajas de Quilmes:  128\n"
     ]
    }
   ],
   "source": [
    "#Busco la cantidad de cajas con fabrica=1\n",
    "cant_cajas_pilar = df[\"fabrica\"].value_counts()[1]\n",
    "cant_cajas_quilmes = 500 - cant_cajas_pilar\n",
    "\n",
    "print(\"Cajas de Pilar: \", cant_cajas_pilar)\n",
    "print(\"Cajas de Quilmes: \", cant_cajas_quilmes)"
   ]
  },
  {
   "cell_type": "code",
   "execution_count": 24,
   "metadata": {},
   "outputs": [
    {
     "data": {
      "text/plain": [
       "defectuosos    9\n",
       "fabrica        9\n",
       "dtype: int64"
      ]
     },
     "execution_count": 24,
     "metadata": {},
     "output_type": "execute_result"
    }
   ],
   "source": [
    "#Busco la cantidad de cajas con fabrica=0 y con defectuosos=3\n",
    "cant_cajas_quilmes_defecto3 = df[(df[\"fabrica\"]==0) & (df[\"defectuosos\"]==3)]\n",
    "\n",
    "cant_cajas_quilmes_defecto3.count()\n"
   ]
  },
  {
   "cell_type": "code",
   "execution_count": 32,
   "metadata": {},
   "outputs": [
    {
     "name": "stdout",
     "output_type": "stream",
     "text": [
      "Esperanza de X: 2.486\n",
      "Varianza de X: 1.6050140280561087\n"
     ]
    }
   ],
   "source": [
    "print(\"Esperanza de X: \" + str(df[\"defectuosos\"].mean()))\n",
    "print(\"Varianza de X: \" + str(df[\"defectuosos\"].var()))"
   ]
  },
  {
   "cell_type": "code",
   "execution_count": 29,
   "metadata": {},
   "outputs": [
    {
     "name": "stdout",
     "output_type": "stream",
     "text": [
      "Esperanza de Y: 0.744\n",
      "Varianza de Y: 0.19084569138276428\n"
     ]
    }
   ],
   "source": [
    "print(\"Esperanza de Y: \" + str(df[\"fabrica\"].mean()))\n",
    "print(\"Varianza de Y: \" + str(df[\"fabrica\"].var()))\n",
    "#tiene sentido por la proba calculada antes, la de que el 74,4% de las cajas son de pilar. La varianza ni idea"
   ]
  },
  {
   "cell_type": "code",
   "execution_count": 36,
   "metadata": {},
   "outputs": [
    {
     "data": {
      "text/plain": [
       "defectuosos    153\n",
       "fabrica        153\n",
       "dtype: int64"
      ]
     },
     "execution_count": 36,
     "metadata": {},
     "output_type": "execute_result"
    }
   ],
   "source": [
    "cant_cajas_defecto3 = df[df[\"defectuosos\"]==3]\n",
    "cant_cajas_defecto3.count()"
   ]
  },
  {
   "cell_type": "code",
   "execution_count": null,
   "metadata": {},
   "outputs": [],
   "source": []
  }
 ],
 "metadata": {
  "kernelspec": {
   "display_name": "base",
   "language": "python",
   "name": "python3"
  },
  "language_info": {
   "codemirror_mode": {
    "name": "ipython",
    "version": 3
   },
   "file_extension": ".py",
   "mimetype": "text/x-python",
   "name": "python",
   "nbconvert_exporter": "python",
   "pygments_lexer": "ipython3",
   "version": "3.9.13"
  },
  "orig_nbformat": 4
 },
 "nbformat": 4,
 "nbformat_minor": 2
}
